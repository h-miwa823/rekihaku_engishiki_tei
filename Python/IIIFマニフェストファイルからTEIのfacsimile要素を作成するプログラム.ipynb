{
  "nbformat": 4,
  "nbformat_minor": 0,
  "metadata": {
    "colab": {
      "name": "IIIFマニフェストファイルからTEIのfacsimile要素を作成するプログラム.ipynb",
      "private_outputs": true,
      "provenance": [],
      "collapsed_sections": []
    },
    "kernelspec": {
      "name": "python3",
      "display_name": "Python 3"
    },
    "language_info": {
      "name": "python"
    }
  },
  "cells": [
    {
      "cell_type": "markdown",
      "source": [
        "# IIIFマニフェストファイルからTEIのfacsimile要素を作成するプログラム\n",
        "\n",
        "利用条件： https://creativecommons.org/publicdomain/zero/1.0/"
      ],
      "metadata": {
        "id": "KlfjzDmINIBf"
      }
    },
    {
      "cell_type": "markdown",
      "source": [
        "## 関数のロード\n",
        "\n",
        "canvasのIDの末尾をxml:idとして扱います。データや用途に応じて、適宜変更してください。"
      ],
      "metadata": {
        "id": "lGBjEi23N2bP"
      }
    },
    {
      "cell_type": "code",
      "execution_count": null,
      "metadata": {
        "id": "WaPxLjm6KG87"
      },
      "outputs": [],
      "source": [
        "from bs4 import BeautifulSoup\n",
        "import json\n",
        "import requests\n",
        "import ssl\n",
        "ssl._create_default_https_context = ssl._create_unverified_context\n",
        "\n",
        "# 関数\n",
        "\n",
        "def createXml(manifest, id_format=\"{}\"):\n",
        "\n",
        "  baseText = r'''\n",
        "  <facsimile></facsimile>\n",
        "  '''\n",
        "\n",
        "  soup = BeautifulSoup(baseText, \"xml\")\n",
        "\n",
        "  facsimile = soup.find(\"facsimile\")\n",
        "  facsimile[\"source\"] = manifest\n",
        "\n",
        "  # manifestのロード\n",
        "\n",
        "  manifest_data = requests.get(manifest).json()\n",
        "  canvases = manifest_data[\"sequences\"][0][\"canvases\"]\n",
        "\n",
        "  for canvas in canvases:\n",
        "      prefix = canvas[\"images\"][0][\"resource\"][\"service\"][\"@id\"]\n",
        "      image = prefix + \"/full/full/0/default.jpg\"\n",
        "      canvasId = canvas[\"@id\"]\n",
        "\n",
        "      # canvasのIDの末尾をxml:idとして扱います。データや用途に応じて、適宜変更してください。\n",
        "      id = id_format.format(canvasId.split(\"/\")[-1])\n",
        "\n",
        "      surface_text = r'''\n",
        "      <surface source=\"{}\" xml:id=\"{}\">\n",
        "      <graphic url=\"{}\"/>\n",
        "      </surface>\n",
        "      '''.format(canvasId, id, image)\n",
        "\n",
        "      surface = BeautifulSoup(surface_text, \"xml\")\n",
        "      facsimile.append(surface)\n",
        "\n",
        "  return soup\n",
        "\n",
        "def main(manifest, output_file, id_format=\"{}\"):\n",
        "  # 以下、実行\n",
        "  xml = createXml(manifest, id_format)\n",
        "\n",
        "  f = open(output_file, \"w\")\n",
        "  f.write(xml.prettify())\n",
        "  f.close()\n",
        "\n",
        "  # ファイルのダウンロード\n",
        "  from google.colab import files\n",
        "  files.download(output_file)"
      ]
    },
    {
      "cell_type": "markdown",
      "source": [
        "## 実行\n",
        "\n",
        "マニフェストファイルのURLと出力ファイルのパスを指定してください。IIIF Image APIに対応していることを前提とします。\n",
        "\n",
        "また、xml:idの与え方のフォーマットをid_format引数で指定できます。"
      ],
      "metadata": {
        "id": "GmlENg-GPOc2"
      }
    },
    {
      "cell_type": "code",
      "source": [
        "# 延喜式（国立歴史民俗博物館）の例\n",
        "manifest = \"https://khirin-a.rekihaku.ac.jp/iiif/rekihaku/H-743-74-1/manifest.json\"\n",
        "output_file = \"engishiki.xml\"\n",
        "main(manifest, output_file)"
      ],
      "metadata": {
        "id": "kKfwIj-tPI-4"
      },
      "execution_count": null,
      "outputs": []
    },
    {
      "cell_type": "code",
      "source": [
        "# 源氏物語（国立国会図書館）の例\n",
        "manifest = \"https://www.dl.ndl.go.jp/api/iiif/2585098/manifest.json\"\n",
        "output_file = \"genji.xml\"\n",
        "main(manifest, output_file, id_format=\"page{}\")"
      ],
      "metadata": {
        "id": "XVptq4XcyPq1"
      },
      "execution_count": null,
      "outputs": []
    }
  ]
}
