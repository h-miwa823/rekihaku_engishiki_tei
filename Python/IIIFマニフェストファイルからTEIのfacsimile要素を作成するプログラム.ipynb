{
 "cells": [
  {
   "cell_type": "markdown",
   "metadata": {
    "id": "KlfjzDmINIBf"
   },
   "source": [
    "# IIIFマニフェストファイルからTEIのfacsimile要素を作成するプログラム\n",
    "\n",
    "利用条件： https://creativecommons.org/publicdomain/zero/1.0/"
   ]
  },
  {
   "cell_type": "markdown",
   "metadata": {
    "id": "lGBjEi23N2bP"
   },
   "source": [
    "## 関数のロード\n",
    "\n",
    "canvasのIDの末尾をxml:idとして扱います。データや用途に応じて、適宜変更してください。"
   ]
  },
  {
   "cell_type": "code",
   "execution_count": 1,
   "metadata": {
    "id": "WaPxLjm6KG87"
   },
   "outputs": [],
   "source": [
    "from bs4 import BeautifulSoup\n",
    "import json\n",
    "import requests\n",
    "import ssl\n",
    "ssl._create_default_https_context = ssl._create_unverified_context\n",
    "\n",
    "# 関数\n",
    "\n",
    "def createXml(manifest, id_format=\"{}\"):\n",
    "\n",
    "  baseText = r'''\n",
    "  <facsimile></facsimile>\n",
    "  '''\n",
    "\n",
    "  soup = BeautifulSoup(baseText, \"xml\")\n",
    "\n",
    "  facsimile = soup.find(\"facsimile\")\n",
    "  facsimile[\"source\"] = manifest\n",
    "\n",
    "  # manifestのロード\n",
    "\n",
    "  manifest_data = requests.get(manifest).json()\n",
    "  canvases = manifest_data[\"sequences\"][0][\"canvases\"]\n",
    "\n",
    "  for canvas in canvases:\n",
    "      prefix = canvas[\"images\"][0][\"resource\"][\"service\"][\"@id\"]\n",
    "      image = prefix + \"/full/full/0/default.jpg\"\n",
    "      canvasId = canvas[\"@id\"]\n",
    "\n",
    "      # canvasのIDの末尾をxml:idとして扱います。データや用途に応じて、適宜変更してください。\n",
    "      id = id_format.format(canvasId.split(\"/\")[-1])\n",
    "\n",
    "      surface_text = r'''\n",
    "      <surface source=\"{}\" xml:id=\"{}\">\n",
    "      <graphic url=\"{}\"/>\n",
    "      </surface>\n",
    "      '''.format(canvasId, id, image)\n",
    "\n",
    "      surface = BeautifulSoup(surface_text, \"xml\")\n",
    "      facsimile.append(surface)\n",
    "\n",
    "  return soup\n",
    "\n",
    "def main(manifest, output_file, id_format=\"{}\"):\n",
    "  # 以下、実行\n",
    "  xml = createXml(manifest, id_format)\n",
    "\n",
    "  f = open(output_file, \"w\")\n",
    "  f.write(xml.prettify())\n",
    "  f.close()\n",
    "\n",
    "  # ファイルのダウンロード\n",
    "  from google.colab import files\n",
    "  files.download(output_file)"
   ]
  },
  {
   "cell_type": "markdown",
   "metadata": {
    "id": "GmlENg-GPOc2"
   },
   "source": [
    "## 実行\n",
    "\n",
    "マニフェストファイルのURLと出力ファイルのパスを指定してください。IIIF Image APIに対応していることを前提とします。\n",
    "\n",
    "また、xml:idの与え方のフォーマットをid_format引数で指定できます。"
   ]
  },
  {
   "cell_type": "code",
   "execution_count": null,
   "metadata": {
    "id": "kKfwIj-tPI-4"
   },
   "outputs": [],
   "source": [
    "# 延喜式（国立歴史民俗博物館）の例\n",
    "manifest = \"https://khirin-a.rekihaku.ac.jp/iiif/rekihaku/H-743-74-1/manifest.json\"\n",
    "output_file = \"engishiki.xml\"\n",
    "main(manifest, output_file)"
   ]
  },
  {
   "cell_type": "code",
   "execution_count": 2,
   "metadata": {},
   "outputs": [
    {
     "ename": "ModuleNotFoundError",
     "evalue": "No module named 'google'",
     "output_type": "error",
     "traceback": [
      "\u001b[1;31m---------------------------------------------------------------------------\u001b[0m",
      "\u001b[1;31mModuleNotFoundError\u001b[0m                       Traceback (most recent call last)",
      "\u001b[1;32m~\\AppData\\Local\\Temp/ipykernel_15060/3497411339.py\u001b[0m in \u001b[0;36m<module>\u001b[1;34m\u001b[0m\n\u001b[0;32m      2\u001b[0m \u001b[0mmanifest\u001b[0m \u001b[1;33m=\u001b[0m \u001b[1;34m\"https://khirin-a.rekihaku.ac.jp/iiif/rekihaku/H-743-74-29/manifest.json\"\u001b[0m\u001b[1;33m\u001b[0m\u001b[1;33m\u001b[0m\u001b[0m\n\u001b[0;32m      3\u001b[0m \u001b[0moutput_file\u001b[0m \u001b[1;33m=\u001b[0m \u001b[1;34m\"engishiki_v29_facsimile.xml\"\u001b[0m\u001b[1;33m\u001b[0m\u001b[1;33m\u001b[0m\u001b[0m\n\u001b[1;32m----> 4\u001b[1;33m \u001b[0mmain\u001b[0m\u001b[1;33m(\u001b[0m\u001b[0mmanifest\u001b[0m\u001b[1;33m,\u001b[0m \u001b[0moutput_file\u001b[0m\u001b[1;33m)\u001b[0m\u001b[1;33m\u001b[0m\u001b[1;33m\u001b[0m\u001b[0m\n\u001b[0m",
      "\u001b[1;32m~\\AppData\\Local\\Temp/ipykernel_15060/3398993068.py\u001b[0m in \u001b[0;36mmain\u001b[1;34m(manifest, output_file, id_format)\u001b[0m\n\u001b[0;32m     51\u001b[0m \u001b[1;33m\u001b[0m\u001b[0m\n\u001b[0;32m     52\u001b[0m   \u001b[1;31m# ファイルのダウンロード\u001b[0m\u001b[1;33m\u001b[0m\u001b[1;33m\u001b[0m\u001b[0m\n\u001b[1;32m---> 53\u001b[1;33m   \u001b[1;32mfrom\u001b[0m \u001b[0mgoogle\u001b[0m\u001b[1;33m.\u001b[0m\u001b[0mcolab\u001b[0m \u001b[1;32mimport\u001b[0m \u001b[0mfiles\u001b[0m\u001b[1;33m\u001b[0m\u001b[1;33m\u001b[0m\u001b[0m\n\u001b[0m\u001b[0;32m     54\u001b[0m   \u001b[0mfiles\u001b[0m\u001b[1;33m.\u001b[0m\u001b[0mdownload\u001b[0m\u001b[1;33m(\u001b[0m\u001b[0moutput_file\u001b[0m\u001b[1;33m)\u001b[0m\u001b[1;33m\u001b[0m\u001b[1;33m\u001b[0m\u001b[0m\n",
      "\u001b[1;31mModuleNotFoundError\u001b[0m: No module named 'google'"
     ]
    }
   ],
   "source": [
    "# 延喜式（国立歴史民俗博物館）の例\n",
    "manifest = \"https://khirin-a.rekihaku.ac.jp/iiif/rekihaku/H-743-74-29/manifest.json\"\n",
    "output_file = \"engishiki_v29_facsimile.xml\"\n",
    "main(manifest, output_file)"
   ]
  },
  {
   "cell_type": "code",
   "execution_count": null,
   "metadata": {
    "id": "XVptq4XcyPq1"
   },
   "outputs": [],
   "source": [
    "# 源氏物語（国立国会図書館）の例\n",
    "manifest = \"https://www.dl.ndl.go.jp/api/iiif/2585098/manifest.json\"\n",
    "output_file = \"genji.xml\"\n",
    "main(manifest, output_file, id_format=\"page{}\")"
   ]
  }
 ],
 "metadata": {
  "colab": {
   "collapsed_sections": [],
   "name": "IIIFマニフェストファイルからTEIのfacsimile要素を作成するプログラム.ipynb",
   "private_outputs": true,
   "provenance": []
  },
  "kernelspec": {
   "display_name": "Python 3 (ipykernel)",
   "language": "python",
   "name": "python3"
  },
  "language_info": {
   "codemirror_mode": {
    "name": "ipython",
    "version": 3
   },
   "file_extension": ".py",
   "mimetype": "text/x-python",
   "name": "python",
   "nbconvert_exporter": "python",
   "pygments_lexer": "ipython3",
   "version": "3.9.7"
  }
 },
 "nbformat": 4,
 "nbformat_minor": 1
}
